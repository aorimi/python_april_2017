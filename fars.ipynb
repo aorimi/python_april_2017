{
 "cells": [
  {
   "cell_type": "code",
   "execution_count": 1,
   "metadata": {
    "collapsed": true
   },
   "outputs": [],
   "source": [
    "import os"
   ]
  },
  {
   "cell_type": "code",
   "execution_count": 2,
   "metadata": {
    "collapsed": true
   },
   "outputs": [],
   "source": [
    "from pandas import DataFrame\n",
    "from dbfread import DBF\n",
    "\n",
    "# Might need to install this from command line:\n",
    "#\n",
    "# $ pip install dbfread"
   ]
  },
  {
   "cell_type": "code",
   "execution_count": 3,
   "metadata": {
    "collapsed": false
   },
   "outputs": [],
   "source": [
    "# This is the module found in my current directory, the fars.py file\n",
    "import fars\n",
    "\n",
    "# Change this according to what's convenient for you\n",
    "DATADIR = os.path.expanduser(\"~/data/fars/\")"
   ]
  },
  {
   "cell_type": "markdown",
   "metadata": {},
   "source": [
    "The lines below are commented since I don't \n",
    "\n",
    "You'll see output like this:\n",
    "\n",
    "```\n",
    "downloaded FARS2010.zip\n",
    "downloaded FARS2011.zip\n",
    "unzipped FARS2010.zip\n",
    "unzipped FARS2010.zip\n",
    "```"
   ]
  },
  {
   "cell_type": "code",
   "execution_count": 4,
   "metadata": {
    "collapsed": false
   },
   "outputs": [
    {
     "name": "stdout",
     "output_type": "stream",
     "text": [
      "downloaded FARS2010.zip\n"
     ]
    },
    {
     "ename": "KeyboardInterrupt",
     "evalue": "",
     "output_type": "error",
     "traceback": [
      "\u001b[0;31m---------------------------------------------------------------------------\u001b[0m",
      "\u001b[0;31mKeyboardInterrupt\u001b[0m                         Traceback (most recent call last)",
      "\u001b[0;32m<ipython-input-4-c7611f8ba0f8>\u001b[0m in \u001b[0;36m<module>\u001b[0;34m()\u001b[0m\n\u001b[1;32m      1\u001b[0m \u001b[0;31m# Uncomment the following lines to fetch the data and unzip it\u001b[0m\u001b[0;34m\u001b[0m\u001b[0;34m\u001b[0m\u001b[0m\n\u001b[0;32m----> 2\u001b[0;31m \u001b[0mfars\u001b[0m\u001b[0;34m.\u001b[0m\u001b[0mdownload\u001b[0m\u001b[0;34m(\u001b[0m\u001b[0mdatadir\u001b[0m \u001b[0;34m=\u001b[0m \u001b[0mDATADIR\u001b[0m\u001b[0;34m)\u001b[0m\u001b[0;34m\u001b[0m\u001b[0m\n\u001b[0m\u001b[1;32m      3\u001b[0m \u001b[0mfars\u001b[0m\u001b[0;34m.\u001b[0m\u001b[0munzip_all\u001b[0m\u001b[0;34m(\u001b[0m\u001b[0mDATADIR\u001b[0m\u001b[0;34m)\u001b[0m\u001b[0;34m\u001b[0m\u001b[0m\n",
      "\u001b[0;32m/Users/clark/projects/python_april_2017/fars.py\u001b[0m in \u001b[0;36mdownload\u001b[0;34m(datadir, start)\u001b[0m\n\u001b[1;32m     63\u001b[0m         \u001b[0;31m# Retrieve binary files and write them to the local machine\u001b[0m\u001b[0;34m\u001b[0m\u001b[0;34m\u001b[0m\u001b[0m\n\u001b[1;32m     64\u001b[0m         \u001b[0;32mwith\u001b[0m \u001b[0mopen\u001b[0m\u001b[0;34m(\u001b[0m\u001b[0mDATADIR\u001b[0m \u001b[0;34m+\u001b[0m \u001b[0mfname\u001b[0m\u001b[0;34m,\u001b[0m \u001b[0;34m\"wb\"\u001b[0m\u001b[0;34m)\u001b[0m \u001b[0;32mas\u001b[0m \u001b[0mf\u001b[0m\u001b[0;34m:\u001b[0m\u001b[0;34m\u001b[0m\u001b[0m\n\u001b[0;32m---> 65\u001b[0;31m             \u001b[0mftp\u001b[0m\u001b[0;34m.\u001b[0m\u001b[0mretrbinary\u001b[0m\u001b[0;34m(\u001b[0m\u001b[0;34m\"RETR \"\u001b[0m \u001b[0;34m+\u001b[0m \u001b[0mfname\u001b[0m\u001b[0;34m,\u001b[0m \u001b[0mf\u001b[0m\u001b[0;34m.\u001b[0m\u001b[0mwrite\u001b[0m\u001b[0;34m)\u001b[0m\u001b[0;34m\u001b[0m\u001b[0m\n\u001b[0m\u001b[1;32m     66\u001b[0m             \u001b[0mprint\u001b[0m\u001b[0;34m(\u001b[0m\u001b[0;34m\"downloaded \"\u001b[0m \u001b[0;34m+\u001b[0m \u001b[0mfname\u001b[0m\u001b[0;34m)\u001b[0m\u001b[0;34m\u001b[0m\u001b[0m\n\u001b[1;32m     67\u001b[0m         \u001b[0mftp\u001b[0m\u001b[0;34m.\u001b[0m\u001b[0mcwd\u001b[0m\u001b[0;34m(\u001b[0m\u001b[0;34m\"../..\"\u001b[0m\u001b[0;34m)\u001b[0m\u001b[0;34m\u001b[0m\u001b[0m\n",
      "\u001b[0;32m//anaconda/lib/python3.5/ftplib.py\u001b[0m in \u001b[0;36mretrbinary\u001b[0;34m(self, cmd, callback, blocksize, rest)\u001b[0m\n\u001b[1;32m    441\u001b[0m         \u001b[0;32mwith\u001b[0m \u001b[0mself\u001b[0m\u001b[0;34m.\u001b[0m\u001b[0mtransfercmd\u001b[0m\u001b[0;34m(\u001b[0m\u001b[0mcmd\u001b[0m\u001b[0;34m,\u001b[0m \u001b[0mrest\u001b[0m\u001b[0;34m)\u001b[0m \u001b[0;32mas\u001b[0m \u001b[0mconn\u001b[0m\u001b[0;34m:\u001b[0m\u001b[0;34m\u001b[0m\u001b[0m\n\u001b[1;32m    442\u001b[0m             \u001b[0;32mwhile\u001b[0m \u001b[0;36m1\u001b[0m\u001b[0;34m:\u001b[0m\u001b[0;34m\u001b[0m\u001b[0m\n\u001b[0;32m--> 443\u001b[0;31m                 \u001b[0mdata\u001b[0m \u001b[0;34m=\u001b[0m \u001b[0mconn\u001b[0m\u001b[0;34m.\u001b[0m\u001b[0mrecv\u001b[0m\u001b[0;34m(\u001b[0m\u001b[0mblocksize\u001b[0m\u001b[0;34m)\u001b[0m\u001b[0;34m\u001b[0m\u001b[0m\n\u001b[0m\u001b[1;32m    444\u001b[0m                 \u001b[0;32mif\u001b[0m \u001b[0;32mnot\u001b[0m \u001b[0mdata\u001b[0m\u001b[0;34m:\u001b[0m\u001b[0;34m\u001b[0m\u001b[0m\n\u001b[1;32m    445\u001b[0m                     \u001b[0;32mbreak\u001b[0m\u001b[0;34m\u001b[0m\u001b[0m\n",
      "\u001b[0;31mKeyboardInterrupt\u001b[0m: "
     ]
    }
   ],
   "source": [
    "# Uncomment the following lines to fetch the data and unzip it\n",
    "fars.download(datadir = DATADIR)\n",
    "fars.unzip_all(DATADIR)\n"
   ]
  },
  {
   "cell_type": "markdown",
   "metadata": {},
   "source": [
    "## Exercise 1\n",
    "\n",
    "Here are a couple functions that were helpful when downloading the data.\n",
    "\n",
    "Your task- fill in the code to actually do it. Check if you're correct by running the test.\n",
    "\n",
    "This is the time to get your feet wet trying Python."
   ]
  },
  {
   "cell_type": "code",
   "execution_count": null,
   "metadata": {
    "collapsed": false
   },
   "outputs": [],
   "source": [
    "def before2012(x, start=2010):\n",
    "    \"\"\"\n",
    "    Looking at the top level directory here: ftp://ftp.nhtsa.dot.gov/fars/\n",
    "    We need to find those that are only years.\n",
    "    \n",
    "    In 2012 the directory pattern changed, so we'll just look at those\n",
    "    years before that.\n",
    "\n",
    "    start year can be as early as 1975.\n",
    "    \n",
    "    >>> before2012(\"2011\")\n",
    "    True\n",
    "    >>> before2012(\"Auxiliary_FARS_Files_Formats/\")\n",
    "    False\n",
    "    \n",
    "    \"\"\"\n",
    "    return False\n",
    "    \n",
    "    \n",
    "\n",
    "def isfars(fname):\n",
    "    \"\"\"\n",
    "    Return True if the filename looks like a FARS file\n",
    "    \n",
    "    >>> isfars(\"FARS2011.zip\")\n",
    "    True\n",
    "    >>> isfars(\"MI2011DBF.zip\")\n",
    "    False\n",
    "    \n",
    "    \"\"\"\n",
    "    return False\n",
    "\n",
    "\n",
    "import doctest\n",
    "doctest.testmod(verbose=True)"
   ]
  },
  {
   "cell_type": "markdown",
   "metadata": {},
   "source": [
    "## Data Exploration\n",
    "\n",
    "If you're having trouble downloading with the script you can try the FTP server from your web browser: [ftp://ftp.nhtsa.dot.gov/fars/](ftp://ftp.nhtsa.dot.gov/fars/)\n",
    "\n",
    "If that doesn't work there's one year available on our web server: http://anson.ucdavis.edu/~clarkf/"
   ]
  },
  {
   "cell_type": "code",
   "execution_count": null,
   "metadata": {
    "collapsed": false
   },
   "outputs": [],
   "source": [
    "# Load in the accidents from 2011\n",
    "acc11 = DataFrame(iter(DBF(DATADIR + \"2011/accident.dbf\")))"
   ]
  },
  {
   "cell_type": "markdown",
   "metadata": {},
   "source": [
    "Usually the first thing I do when looking at a table is check the dimensions and the data types. From the documentation I expect approximately 40,000 rows and 50 columns."
   ]
  },
  {
   "cell_type": "code",
   "execution_count": null,
   "metadata": {
    "collapsed": false
   },
   "outputs": [],
   "source": [
    "acc11.shape"
   ]
  },
  {
   "cell_type": "code",
   "execution_count": null,
   "metadata": {
    "collapsed": false
   },
   "outputs": [],
   "source": [
    "acc11.dtypes"
   ]
  },
  {
   "cell_type": "code",
   "execution_count": null,
   "metadata": {
    "collapsed": false
   },
   "outputs": [],
   "source": [
    "acc11.head()"
   ]
  },
  {
   "cell_type": "markdown",
   "metadata": {},
   "source": [
    "These are mostly integers, because they're coded according to a manual. Think categorical variables, or factors in R. To actually make sense of these we'll need to have all the lookup tables. If you can find them online please let me know!\n",
    "\n",
    "## Maps\n",
    "\n",
    "Lets map accidents that occurred around Davis / Sacramento.\n",
    "\n",
    "We'll use folium: https://folium.readthedocs.io/en/latest/ \n",
    "\n",
    "(Thanks Nick for the recommendation)"
   ]
  },
  {
   "cell_type": "code",
   "execution_count": null,
   "metadata": {
    "collapsed": false
   },
   "outputs": [],
   "source": [
    "# Might need to install this from command line:\n",
    "#\n",
    "# $ pip install folium\n",
    "\n",
    "import folium"
   ]
  },
  {
   "cell_type": "code",
   "execution_count": null,
   "metadata": {
    "collapsed": false
   },
   "outputs": [],
   "source": [
    "sac = folium.Map(location=[38.5449, -121.7405])\n",
    "sac"
   ]
  },
  {
   "cell_type": "markdown",
   "metadata": {},
   "source": [
    "That's a nice looking map, now we'll add points for accidents.\n",
    "\n",
    "First we need to pick out those accidents to display. We can subset using square brackets."
   ]
  },
  {
   "cell_type": "code",
   "execution_count": null,
   "metadata": {
    "collapsed": true
   },
   "outputs": [],
   "source": [
    "acc_sac = acc11[(38 < acc11[\"LATITUDE\"])\n",
    "                & (acc11[\"LATITUDE\"] < 39)\n",
    "                & (-122 < acc11[\"LONGITUD\"])\n",
    "                & (acc11[\"LONGITUD\"] < -121)\n",
    "               ]"
   ]
  },
  {
   "cell_type": "code",
   "execution_count": null,
   "metadata": {
    "collapsed": false
   },
   "outputs": [],
   "source": [
    "for loc in acc_sac[[\"LATITUDE\", \"LONGITUD\"]].itertuples(index = False):\n",
    "    folium.Marker(loc).add_to(sac)"
   ]
  },
  {
   "cell_type": "code",
   "execution_count": null,
   "metadata": {
    "collapsed": false
   },
   "outputs": [],
   "source": [
    "sac"
   ]
  },
  {
   "cell_type": "markdown",
   "metadata": {},
   "source": [
    "## The Golden Hour\n",
    "\n",
    "gold·en hour (noun) MEDICINE\n",
    "\n",
    "> The first hour after the occurrence of a traumatic injury, considered the most critical for successful emergency treatment.\n",
    "\n",
    "Let's look at how much time passed between when an accident occurred and the first responders arrived on the scene.\n",
    "\n",
    "Here's some relevant info from the docs:\n",
    "\n",
    "```\n",
    "C9B Minute of Crash\n",
    "\n",
    "Definition: This data element records the minutes after the hour at which the crash occurred.\n",
    "\n",
    "Additional Information: All time is 24-hour military time.\n",
    "\n",
    "The time of the crash/arrival of the emergency medical service can occur in a different day than\n",
    "the arrival of emergency medical service at the crash scene/hospital.\n",
    "This data element also appears in the Vehicle and Person data files and in the Parkwork data\n",
    "file as PMINUTE.\n",
    "\n",
    "SAS Name: MINUTE\n",
    "1975- 2010-\n",
    "2008 2009 Later\n",
    "00-59 00-59 00-59 Minute\n",
    "-- 88 -- Not Applicable or Not Notified\n",
    "99 99 99 Unknown\n",
    "\n",
    "\n",
    "C30B Minute of Arrival at Scene\n",
    "\n",
    "Definition: This data element records the minutes after the hour that emergency medical\n",
    "service arrived on the crash scene.\n",
    "\n",
    "Prior to 2015, this data element’s Locator Code or Data Element Number was C29B.\n",
    "SAS Name: ARR_MIN\n",
    "1975- 1999- 2009-\n",
    "1998 2008 Later\n",
    "00-59 00-59 00-59 Minute\n",
    "00 -- Not Notified or Officially Cancelled\n",
    "(when ARR_HOUR = 00)\n",
    "-- 00 -- Not Notified (when ARR_HOUR = 00)\n",
    "-- -- 88 Not Applicable or Not Notified\n",
    "-- 97 97 Officially Cancelled\n",
    "-- 98 98 Unknown if Arrived\n",
    "99 99 99 Unknown Minutes\n",
    "```\n",
    "\n",
    "So we can use the time elements in the data to see how long it takes for the emergency medical services to arrive."
   ]
  }
 ],
 "metadata": {
  "anaconda-cloud": {},
  "kernelspec": {
   "display_name": "Python 3",
   "language": "python",
   "name": "python3"
  },
  "language_info": {
   "codemirror_mode": {
    "name": "ipython",
    "version": 3
   },
   "file_extension": ".py",
   "mimetype": "text/x-python",
   "name": "python",
   "nbconvert_exporter": "python",
   "pygments_lexer": "ipython3",
   "version": "3.5.2"
  }
 },
 "nbformat": 4,
 "nbformat_minor": 0
}
